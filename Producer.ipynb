{
 "cells": [
  {
   "cell_type": "code",
   "execution_count": null,
   "id": "f7b29a87",
   "metadata": {},
   "outputs": [],
   "source": []
  },
  {
   "cell_type": "code",
   "execution_count": null,
   "id": "ac9125d3",
   "metadata": {},
   "outputs": [
    {
     "name": "stdout",
     "output_type": "stream",
     "text": [
      "network-traffic 0 162.84.233.150,52.167.207.154,99838\n",
      "network-traffic 1 247.69.240.227,158.15.250.117,36618\n",
      "network-traffic 2 142.85.99.135,179.15.3.43,66045\n",
      "network-traffic 3 172.83.19.90,3.174.138.4,93454\n"
     ]
    }
   ],
   "source": [
    "from confluent_kafka import Producer, Consumer\n",
    "import time\n",
    "import random\n",
    "\n",
    "# Kafka producer configuration\n",
    "bootstrap_servers = 'pkc-lzvrd.us-west4.gcp.confluent.cloud'\n",
    "sasl_username = 'GPTZSLOX4PMDS2ZK'\n",
    "sasl_password = 'ojOwC3qCEzEBcfniST+ddVRZynkuw/xVbXQcVOBBAhmjd07Ips+Y4nFffiFg16RK'\n",
    "topic_name = 'network-traffic'\n",
    "\n",
    "producer = Producer({\n",
    "    'bootstrap.servers': f\"{bootstrap_servers}:9092\",\n",
    "    'security.protocol':'SASL_SSL',\n",
    "    'sasl.mechanism':'PLAIN',\n",
    "    'sasl.username': sasl_username,\n",
    "    'sasl.password':sasl_password\n",
    "})\n",
    "\n",
    "# Generate and publish network traffic data to Kafka topic\n",
    "count = 0\n",
    "while True:\n",
    "    # Generate random network traffic data\n",
    "    source_ip = '.'.join(str(random.randint(0, 255)) for _ in range(4))\n",
    "    destination_ip = '.'.join(str(random.randint(0, 255)) for _ in range(4))\n",
    "    bytes_sent = random.randint(1000, 100000)\n",
    "    print(topic_name,  f\"{count}\", f\"{source_ip},{destination_ip},{bytes_sent}\")\n",
    "\n",
    "    # Publish network traffic data to Kafka topic\n",
    "    producer.produce(topic_name,  key = f\"{count}\", value = f\"{source_ip},{destination_ip},{bytes_sent}\".encode('utf-8'))\n",
    "    count = count + 1\n",
    "#     producer.flush()\n",
    "\n",
    "    # Wait for 1 second before generating next network traffic data\n",
    "    time.sleep(5)"
   ]
  },
  {
   "cell_type": "code",
   "execution_count": null,
   "id": "c646dee8",
   "metadata": {},
   "outputs": [],
   "source": []
  }
 ],
 "metadata": {
  "kernelspec": {
   "display_name": "Python 3 (ipykernel)",
   "language": "python",
   "name": "python3"
  },
  "language_info": {
   "codemirror_mode": {
    "name": "ipython",
    "version": 3
   },
   "file_extension": ".py",
   "mimetype": "text/x-python",
   "name": "python",
   "nbconvert_exporter": "python",
   "pygments_lexer": "ipython3",
   "version": "3.10.9"
  }
 },
 "nbformat": 4,
 "nbformat_minor": 5
}
