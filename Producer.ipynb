{
 "cells": [
  {
   "cell_type": "code",
   "execution_count": 4,
   "id": "e568b085",
   "metadata": {},
   "outputs": [
    {
     "name": "stdout",
     "output_type": "stream",
     "text": [
      "Requirement already satisfied: confluent-kafka in c:\\users\\hp\\anaconda3\\lib\\site-packages (2.1.1)"
     ]
    },
    {
     "name": "stderr",
     "output_type": "stream",
     "text": [
      "WARNING: Ignoring invalid distribution -yspark (c:\\users\\hp\\anaconda3\\lib\\site-packages)\n",
      "WARNING: Ignoring invalid distribution -yspark (c:\\users\\hp\\anaconda3\\lib\\site-packages)\n",
      "WARNING: Ignoring invalid distribution -yspark (c:\\users\\hp\\anaconda3\\lib\\site-packages)\n",
      "WARNING: Ignoring invalid distribution -yspark (c:\\users\\hp\\anaconda3\\lib\\site-packages)\n",
      "WARNING: Ignoring invalid distribution -yspark (c:\\users\\hp\\anaconda3\\lib\\site-packages)\n",
      "WARNING: Ignoring invalid distribution -yspark (c:\\users\\hp\\anaconda3\\lib\\site-packages)\n"
     ]
    },
    {
     "name": "stdout",
     "output_type": "stream",
     "text": [
      "\n"
     ]
    }
   ],
   "source": [
    "!pip install confluent-kafka"
   ]
  },
  {
   "cell_type": "code",
   "execution_count": 21,
   "id": "5f58456d",
   "metadata": {},
   "outputs": [
    {
     "name": "stdout",
     "output_type": "stream",
     "text": [
      "network-traffic 0 7.222.134.228,91.58.89.81,54745\n",
      "network-traffic 1 160.32.99.232,10.69.198.61,14272\n",
      "network-traffic 2 120.236.181.131,142.20.175.220,24316\n",
      "network-traffic 3 194.112.90.57,132.79.214.230,39154\n",
      "network-traffic 4 49.58.220.254,130.19.229.74,7934\n",
      "network-traffic 5 57.18.46.18,113.244.196.169,2870\n",
      "network-traffic 6 177.64.118.183,50.104.244.141,41678\n",
      "network-traffic 7 6.59.147.217,138.108.170.13,57866\n",
      "network-traffic 8 238.176.182.94,175.194.100.95,24715\n",
      "network-traffic 9 141.25.36.235,20.165.55.221,90341\n",
      "network-traffic 10 57.66.210.200,68.251.219.187,97920\n",
      "network-traffic 11 14.98.189.68,128.163.132.248,51303\n",
      "network-traffic 12 37.236.58.73,159.186.224.91,80342\n",
      "network-traffic 13 59.74.162.240,158.151.90.94,49873\n",
      "network-traffic 14 165.60.199.106,69.196.95.26,10341\n",
      "network-traffic 15 108.251.163.100,80.172.22.232,97358\n",
      "network-traffic 16 10.22.151.109,158.56.199.53,80578\n",
      "network-traffic 17 69.251.186.131,36.55.118.148,56426\n",
      "network-traffic 18 204.158.151.164,210.16.143.104,29634\n",
      "network-traffic 19 8.173.163.241,250.220.48.74,91060\n",
      "network-traffic 20 164.171.154.107,203.144.115.187,84310\n",
      "network-traffic 21 101.103.63.14,63.118.75.32,23237\n",
      "network-traffic 22 163.32.229.27,244.173.85.122,45480\n",
      "network-traffic 23 33.68.151.157,205.76.77.239,10710\n",
      "network-traffic 24 180.12.247.80,120.141.228.158,40934\n",
      "network-traffic 25 159.31.19.69,175.40.202.20,21874\n",
      "network-traffic 26 201.95.104.19,102.72.113.38,40935\n"
     ]
    },
    {
     "ename": "KeyboardInterrupt",
     "evalue": "",
     "output_type": "error",
     "traceback": [
      "\u001b[1;31m---------------------------------------------------------------------------\u001b[0m",
      "\u001b[1;31mKeyboardInterrupt\u001b[0m                         Traceback (most recent call last)",
      "Cell \u001b[1;32mIn[21], line 34\u001b[0m\n\u001b[0;32m     30\u001b[0m     count \u001b[38;5;241m=\u001b[39m count \u001b[38;5;241m+\u001b[39m \u001b[38;5;241m1\u001b[39m\n\u001b[0;32m     31\u001b[0m \u001b[38;5;66;03m#     producer.flush()\u001b[39;00m\n\u001b[0;32m     32\u001b[0m \n\u001b[0;32m     33\u001b[0m     \u001b[38;5;66;03m# Wait for 1 second before generating next network traffic data\u001b[39;00m\n\u001b[1;32m---> 34\u001b[0m     \u001b[43mtime\u001b[49m\u001b[38;5;241;43m.\u001b[39;49m\u001b[43msleep\u001b[49m\u001b[43m(\u001b[49m\u001b[38;5;241;43m5\u001b[39;49m\u001b[43m)\u001b[49m\n",
      "\u001b[1;31mKeyboardInterrupt\u001b[0m: "
     ]
    }
   ],
   "source": [
    "from confluent_kafka import Producer, Consumer\n",
    "import time\n",
    "import random\n",
    "\n",
    "# Kafka producer configuration\n",
    "bootstrap_servers = 'pkc-lzvrd.us-west4.gcp.confluent.cloud'\n",
    "sasl_username = 'GPTZSLOX4PMDS2ZK'\n",
    "sasl_password = 'ojOwC3qCEzEBcfniST+ddVRZynkuw/xVbXQcVOBBAhmjd07Ips+Y4nFffiFg16RK'\n",
    "topic_name = 'network-traffic'\n",
    "\n",
    "producer = Producer({\n",
    "    'bootstrap.servers': f\"{bootstrap_servers}:9092\",\n",
    "    'security.protocol':'SASL_SSL',\n",
    "    'sasl.mechanism':'PLAIN',\n",
    "    'sasl.username': sasl_username,\n",
    "    'sasl.password':sasl_password\n",
    "})\n",
    "\n",
    "# Generate and publish network traffic data to Kafka topic\n",
    "count = 0\n",
    "while True:\n",
    "    # Generate random network traffic data\n",
    "    source_ip = '.'.join(str(random.randint(0, 255)) for _ in range(4))\n",
    "    destination_ip = '.'.join(str(random.randint(0, 255)) for _ in range(4))\n",
    "    bytes_sent = random.randint(1000, 100000)\n",
    "    print(topic_name,  f\"{count}\", f\"{source_ip},{destination_ip},{bytes_sent}\")\n",
    "\n",
    "    # Publish network traffic data to Kafka topic\n",
    "    producer.produce(topic_name,  key = f\"{count}\", value = f\"{source_ip},{destination_ip},{bytes_sent}\".encode('utf-8'))\n",
    "    count = count + 1\n",
    "#     producer.flush()\n",
    "\n",
    "    # Wait for 1 second before generating next network traffic data\n",
    "    time.sleep(5)"
   ]
  },
  {
   "cell_type": "code",
   "execution_count": null,
   "id": "b6072f9a",
   "metadata": {},
   "outputs": [],
   "source": []
  }
 ],
 "metadata": {
  "kernelspec": {
   "display_name": "Python 3 (ipykernel)",
   "language": "python",
   "name": "python3"
  },
  "language_info": {
   "codemirror_mode": {
    "name": "ipython",
    "version": 3
   },
   "file_extension": ".py",
   "mimetype": "text/x-python",
   "name": "python",
   "nbconvert_exporter": "python",
   "pygments_lexer": "ipython3",
   "version": "3.10.9"
  }
 },
 "nbformat": 4,
 "nbformat_minor": 5
}
