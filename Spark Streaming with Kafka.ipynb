{
 "cells": [
  {
   "cell_type": "code",
   "execution_count": null,
   "id": "821a2f86",
   "metadata": {},
   "outputs": [],
   "source": []
  },
  {
   "cell_type": "code",
   "execution_count": 22,
   "id": "c510d68b",
   "metadata": {},
   "outputs": [],
   "source": [
    "from confluent_kafka import Producer, Consumer\n",
    "import time\n",
    "import random\n",
    "\n",
    "# Kafka producer configuration\n",
    "bootstrap_servers = 'pkc-lzvrd.us-west4.gcp.confluent.cloud'\n",
    "sasl_username = 'GPTZSLOX4PMDS2ZK'\n",
    "sasl_password = 'ojOwC3qCEzEBcfniST+ddVRZynkuw/xVbXQcVOBBAhmjd07Ips+Y4nFffiFg16RK'\n",
    "topic_name = 'network-traffic'\n",
    "\n",
    "producer = Producer({\n",
    "    'bootstrap.servers': f\"{bootstrap_servers}:9092\",\n",
    "    'security.protocol':'SASL_SSL',\n",
    "    'sasl.mechanism':'PLAIN',\n",
    "    'sasl.username': sasl_username,\n",
    "    'sasl.password':sasl_password\n",
    "})\n",
    "\n",
    "# Kafka Consumer\n",
    "\n",
    "consumer = Consumer({\n",
    "    'bootstrap.servers': f\"{bootstrap_servers}:9092\",\n",
    "    'security.protocol': 'SASL_SSL',\n",
    "    'sasl.mechanisms': 'PLAIN',\n",
    "    'sasl.username': sasl_username,\n",
    "    'sasl.password': sasl_password,\n",
    "    'group.id': 'kafka-java-getting-started',\n",
    "    'auto.offset.reset': 'earliest'\n",
    "})"
   ]
  },
  {
   "cell_type": "code",
   "execution_count": 23,
   "id": "3c4b6bbe",
   "metadata": {},
   "outputs": [
    {
     "name": "stdout",
     "output_type": "stream",
     "text": [
      "Received message: 120.236.181.131,142.20.175.220,24316\n",
      "Received message: 194.112.90.57,132.79.214.230,39154\n",
      "Received message: 141.25.36.235,20.165.55.221,90341\n",
      "Received message: 57.66.210.200,68.251.219.187,97920\n",
      "Received message: 14.98.189.68,128.163.132.248,51303\n",
      "Received message: 6.59.147.217,138.108.170.13,57866\n",
      "Received message: 49.58.220.254,130.19.229.74,7934\n",
      "Received message: 57.18.46.18,113.244.196.169,2870\n",
      "Received message: 177.64.118.183,50.104.244.141,41678\n",
      "Received message: 7.222.134.228,91.58.89.81,54745\n",
      "Received message: 160.32.99.232,10.69.198.61,14272\n",
      "Received message: 238.176.182.94,175.194.100.95,24715\n",
      "Received message: 37.236.58.73,159.186.224.91,80342\n",
      "Received message: 59.74.162.240,158.151.90.94,49873\n",
      "Received message: 165.60.199.106,69.196.95.26,10341\n",
      "Received message: 108.251.163.100,80.172.22.232,97358\n",
      "Received message: 10.22.151.109,158.56.199.53,80578\n",
      "Received message: 69.251.186.131,36.55.118.148,56426\n",
      "Received message: 204.158.151.164,210.16.143.104,29634\n",
      "Received message: 8.173.163.241,250.220.48.74,91060\n",
      "Received message: 164.171.154.107,203.144.115.187,84310\n",
      "Received message: 101.103.63.14,63.118.75.32,23237\n",
      "Received message: 163.32.229.27,244.173.85.122,45480\n",
      "Received message: 33.68.151.157,205.76.77.239,10710\n",
      "Received message: 180.12.247.80,120.141.228.158,40934\n",
      "Received message: 159.31.19.69,175.40.202.20,21874\n",
      "Received message: 201.95.104.19,102.72.113.38,40935\n"
     ]
    },
    {
     "ename": "KeyboardInterrupt",
     "evalue": "",
     "output_type": "error",
     "traceback": [
      "\u001b[1;31m---------------------------------------------------------------------------\u001b[0m",
      "\u001b[1;31mKeyboardInterrupt\u001b[0m                         Traceback (most recent call last)",
      "Cell \u001b[1;32mIn[23], line 3\u001b[0m\n\u001b[0;32m      1\u001b[0m consumer\u001b[38;5;241m.\u001b[39msubscribe([\u001b[38;5;124m'\u001b[39m\u001b[38;5;124mnetwork-traffic\u001b[39m\u001b[38;5;124m'\u001b[39m])\n\u001b[0;32m      2\u001b[0m \u001b[38;5;28;01mwhile\u001b[39;00m \u001b[38;5;28;01mTrue\u001b[39;00m:\n\u001b[1;32m----> 3\u001b[0m     msg \u001b[38;5;241m=\u001b[39m \u001b[43mconsumer\u001b[49m\u001b[38;5;241;43m.\u001b[39;49m\u001b[43mpoll\u001b[49m\u001b[43m(\u001b[49m\u001b[38;5;241;43m1.0\u001b[39;49m\u001b[43m)\u001b[49m\n\u001b[0;32m      4\u001b[0m     \u001b[38;5;28;01mif\u001b[39;00m msg \u001b[38;5;129;01mis\u001b[39;00m \u001b[38;5;28;01mNone\u001b[39;00m:\n\u001b[0;32m      5\u001b[0m         \u001b[38;5;28;01mcontinue\u001b[39;00m\n",
      "\u001b[1;31mKeyboardInterrupt\u001b[0m: "
     ]
    }
   ],
   "source": [
    "consumer.subscribe(['network-traffic'])\n",
    "while True:\n",
    "    msg = consumer.poll(1.0)\n",
    "    if msg is None:\n",
    "        continue\n",
    "    if msg.error():\n",
    "        print(\"Consumer error: {}\".format(msg.error()))\n",
    "        continue\n",
    "    print('Received message: {}'.format(msg.value().decode('utf-8')))"
   ]
  },
  {
   "cell_type": "code",
   "execution_count": null,
   "id": "38ab12f2",
   "metadata": {},
   "outputs": [],
   "source": []
  }
 ],
 "metadata": {
  "kernelspec": {
   "display_name": "Python 3 (ipykernel)",
   "language": "python",
   "name": "python3"
  },
  "language_info": {
   "codemirror_mode": {
    "name": "ipython",
    "version": 3
   },
   "file_extension": ".py",
   "mimetype": "text/x-python",
   "name": "python",
   "nbconvert_exporter": "python",
   "pygments_lexer": "ipython3",
   "version": "3.10.9"
  }
 },
 "nbformat": 4,
 "nbformat_minor": 5
}
