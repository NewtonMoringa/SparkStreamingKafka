{
 "cells": [
  {
   "cell_type": "code",
   "execution_count": null,
   "id": "821a2f86",
   "metadata": {},
   "outputs": [],
   "source": []
  },
  {
   "cell_type": "code",
   "execution_count": 32,
   "id": "c510d68b",
   "metadata": {},
   "outputs": [],
   "source": [
    "from confluent_kafka import Producer, Consumer\n",
    "import time\n",
    "import random\n",
    "\n",
    "# Kafka producer configuration\n",
    "bootstrap_servers = 'pkc-lzvrd.us-west4.gcp.confluent.cloud'\n",
    "sasl_username = 'GPTZSLOX4PMDS2ZK'\n",
    "sasl_password = 'ojOwC3qCEzEBcfniST+ddVRZynkuw/xVbXQcVOBBAhmjd07Ips+Y4nFffiFg16RK'\n",
    "topic_name = 'network-traffic'\n",
    "\n",
    "producer = Producer({\n",
    "    'bootstrap.servers': f\"{bootstrap_servers}:9092\",\n",
    "    'security.protocol':'SASL_SSL',\n",
    "    'sasl.mechanism':'PLAIN',\n",
    "    'sasl.username': sasl_username,\n",
    "    'sasl.password':sasl_password\n",
    "})\n",
    "\n",
    "# Kafka Consumer\n",
    "\n",
    "consumer = Consumer({\n",
    "    'bootstrap.servers': f\"{bootstrap_servers}:9092\",\n",
    "    'security.protocol': 'SASL_SSL',\n",
    "    'sasl.mechanisms': 'PLAIN',\n",
    "    'sasl.username': sasl_username,\n",
    "    'sasl.password': sasl_password,\n",
    "    'group.id': 'kafka-java-getting-started',\n",
    "    'auto.offset.reset': 'earliest'\n",
    "})"
   ]
  },
  {
   "cell_type": "code",
   "execution_count": 33,
   "id": "3c4b6bbe",
   "metadata": {},
   "outputs": [
    {
     "name": "stdout",
     "output_type": "stream",
     "text": [
      "Received message: {\"source_ip\": \"59.85.57.151\", \"destination_ip\": \"206.175.75.240\", \"bytes_sent\": 37384}\n",
      "Received message: {\"source_ip\": \"202.232.59.221\", \"destination_ip\": \"182.209.211.148\", \"bytes_sent\": 46030}\n",
      "Received message: {\"source_ip\": \"200.93.104.181\", \"destination_ip\": \"250.53.109.198\", \"bytes_sent\": 56025}\n",
      "Received message: {\"source_ip\": \"158.50.115.19\", \"destination_ip\": \"255.114.142.169\", \"bytes_sent\": 50503}\n",
      "Received message: {\"source_ip\": \"124.67.200.36\", \"destination_ip\": \"92.203.53.202\", \"bytes_sent\": 90378}\n",
      "Received message: {\"source_ip\": \"179.179.34.185\", \"destination_ip\": \"205.4.70.88\", \"bytes_sent\": 84739}\n",
      "Received message: {\"source_ip\": \"76.163.216.243\", \"destination_ip\": \"69.176.16.160\", \"bytes_sent\": 69726}\n",
      "Received message: {\"source_ip\": \"167.191.222.30\", \"destination_ip\": \"80.74.42.78\", \"bytes_sent\": 46231}\n",
      "Received message: {\"source_ip\": \"70.104.190.125\", \"destination_ip\": \"2.108.226.91\", \"bytes_sent\": 93810}\n",
      "Received message: {\"source_ip\": \"130.215.43.149\", \"destination_ip\": \"178.167.162.78\", \"bytes_sent\": 50716}\n",
      "Received message: {\"source_ip\": \"247.211.30.174\", \"destination_ip\": \"170.239.139.162\", \"bytes_sent\": 82677}\n",
      "Received message: {\"source_ip\": \"210.237.250.197\", \"destination_ip\": \"155.217.47.185\", \"bytes_sent\": 47087}\n",
      "Received message: {\"source_ip\": \"62.33.85.3\", \"destination_ip\": \"165.118.113.220\", \"bytes_sent\": 96945}\n",
      "Received message: {\"source_ip\": \"77.160.151.151\", \"destination_ip\": \"150.222.194.153\", \"bytes_sent\": 29165}\n",
      "Received message: {\"source_ip\": \"14.68.101.170\", \"destination_ip\": \"165.93.206.255\", \"bytes_sent\": 5597}\n",
      "Received message: {\"source_ip\": \"102.255.202.33\", \"destination_ip\": \"155.169.72.136\", \"bytes_sent\": 98967}\n",
      "Received message: {\"source_ip\": \"94.177.87.108\", \"destination_ip\": \"46.117.231.56\", \"bytes_sent\": 23790}\n",
      "Received message: {\"source_ip\": \"128.173.55.105\", \"destination_ip\": \"209.114.31.134\", \"bytes_sent\": 57133}\n",
      "Received message: {\"source_ip\": \"107.186.151.97\", \"destination_ip\": \"53.227.243.106\", \"bytes_sent\": 40556}\n",
      "Received message: {\"source_ip\": \"16.178.119.101\", \"destination_ip\": \"219.86.69.166\", \"bytes_sent\": 46201}\n",
      "Received message: {\"source_ip\": \"144.160.163.5\", \"destination_ip\": \"35.249.51.208\", \"bytes_sent\": 3262}\n",
      "Received message: {\"source_ip\": \"255.172.94.137\", \"destination_ip\": \"168.168.156.162\", \"bytes_sent\": 19514}\n",
      "Received message: {\"source_ip\": \"199.16.202.155\", \"destination_ip\": \"41.67.152.230\", \"bytes_sent\": 31839}\n",
      "Received message: {\"source_ip\": \"124.191.29.239\", \"destination_ip\": \"76.42.238.211\", \"bytes_sent\": 12299}\n",
      "Received message: {\"source_ip\": \"120.129.155.199\", \"destination_ip\": \"3.166.9.72\", \"bytes_sent\": 88327}\n",
      "Received message: {\"source_ip\": \"208.23.165.44\", \"destination_ip\": \"206.89.46.150\", \"bytes_sent\": 61661}\n",
      "Received message: {\"source_ip\": \"188.62.61.1\", \"destination_ip\": \"148.177.19.111\", \"bytes_sent\": 19175}\n",
      "Received message: {\"source_ip\": \"37.173.151.118\", \"destination_ip\": \"118.161.48.59\", \"bytes_sent\": 12600}\n",
      "Received message: {\"source_ip\": \"55.212.152.1\", \"destination_ip\": \"209.169.81.9\", \"bytes_sent\": 14541}\n",
      "Received message: {\"source_ip\": \"10.56.196.155\", \"destination_ip\": \"169.198.2.78\", \"bytes_sent\": 29011}\n",
      "Received message: {\"source_ip\": \"34.115.196.81\", \"destination_ip\": \"70.89.194.90\", \"bytes_sent\": 47035}\n",
      "Received message: {\"source_ip\": \"70.121.127.213\", \"destination_ip\": \"80.253.93.190\", \"bytes_sent\": 15753}\n",
      "Received message: {\"source_ip\": \"77.247.200.59\", \"destination_ip\": \"160.77.235.77\", \"bytes_sent\": 75541}\n",
      "Received message: {\"source_ip\": \"33.50.211.228\", \"destination_ip\": \"156.116.27.14\", \"bytes_sent\": 87178}\n"
     ]
    },
    {
     "ename": "KeyboardInterrupt",
     "evalue": "",
     "output_type": "error",
     "traceback": [
      "\u001b[1;31m---------------------------------------------------------------------------\u001b[0m",
      "\u001b[1;31mKeyboardInterrupt\u001b[0m                         Traceback (most recent call last)",
      "Cell \u001b[1;32mIn[33], line 3\u001b[0m\n\u001b[0;32m      1\u001b[0m consumer\u001b[38;5;241m.\u001b[39msubscribe([\u001b[38;5;124m'\u001b[39m\u001b[38;5;124mnetwork-traffic\u001b[39m\u001b[38;5;124m'\u001b[39m])\n\u001b[0;32m      2\u001b[0m \u001b[38;5;28;01mwhile\u001b[39;00m \u001b[38;5;28;01mTrue\u001b[39;00m:\n\u001b[1;32m----> 3\u001b[0m     msg \u001b[38;5;241m=\u001b[39m \u001b[43mconsumer\u001b[49m\u001b[38;5;241;43m.\u001b[39;49m\u001b[43mpoll\u001b[49m\u001b[43m(\u001b[49m\u001b[38;5;241;43m1.0\u001b[39;49m\u001b[43m)\u001b[49m\n\u001b[0;32m      4\u001b[0m     \u001b[38;5;28;01mif\u001b[39;00m msg \u001b[38;5;129;01mis\u001b[39;00m \u001b[38;5;28;01mNone\u001b[39;00m:\n\u001b[0;32m      5\u001b[0m         \u001b[38;5;28;01mcontinue\u001b[39;00m\n",
      "\u001b[1;31mKeyboardInterrupt\u001b[0m: "
     ]
    }
   ],
   "source": [
    "consumer.subscribe(['network-traffic'])\n",
    "while True:\n",
    "    msg = consumer.poll(1.0)\n",
    "    if msg is None:\n",
    "        continue\n",
    "    if msg.error():\n",
    "        print(\"Consumer error: {}\".format(msg.error()))\n",
    "        continue\n",
    "    print('Received message: {}'.format(msg.value().decode('utf-8')))"
   ]
  },
  {
   "cell_type": "code",
   "execution_count": null,
   "id": "f6bcb290",
   "metadata": {},
   "outputs": [],
   "source": []
  },
  {
   "cell_type": "code",
   "execution_count": null,
   "id": "38ab12f2",
   "metadata": {},
   "outputs": [],
   "source": []
  }
 ],
 "metadata": {
  "kernelspec": {
   "display_name": "Python 3 (ipykernel)",
   "language": "python",
   "name": "python3"
  },
  "language_info": {
   "codemirror_mode": {
    "name": "ipython",
    "version": 3
   },
   "file_extension": ".py",
   "mimetype": "text/x-python",
   "name": "python",
   "nbconvert_exporter": "python",
   "pygments_lexer": "ipython3",
   "version": "3.10.9"
  }
 },
 "nbformat": 4,
 "nbformat_minor": 5
}
