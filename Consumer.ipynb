{
 "cells": [
  {
   "cell_type": "code",
   "execution_count": null,
   "id": "7d31323f",
   "metadata": {},
   "outputs": [],
   "source": [
    "from pyspark.sql import SparkSession\n",
    "from pyspark.sql.functions import *\n",
    "from pyspark.sql.types import *\n",
    "from confluent_kafka import Producer, Consumer\n",
    "import json"
   ]
  },
  {
   "cell_type": "code",
   "execution_count": null,
   "id": "2c40020d",
   "metadata": {},
   "outputs": [],
   "source": [
    "# Kafka producer configuration\n",
    "bootstrap_servers = 'pkc-lzvrd.us-west4.gcp.confluent.cloud'\n",
    "sasl_username = 'GPTZSLOX4PMDS2ZK'\n",
    "sasl_password = 'ojOwC3qCEzEBcfniST+ddVRZynkuw/xVbXQcVOBBAhmjd07Ips+Y4nFffiFg16RK'\n",
    "topic_name = 'network-traffic'\n",
    "\n",
    "spark = SparkSession.builder \\\n",
    "    .appName(\"network_traffic_monitoring\") \\\n",
    "    .getOrCreate()\n",
    "\n",
    "# Subscribe to 1 topic\n",
    "df = spark \\\n",
    "  .readStream \\\n",
    "  .format(\"kafka\") \\\n",
    "  .option(\"subscribe\",topic_name) \\\n",
    "  .option(\"kafka.bootstrap.servers\", \"pkc-lzvrd.us-west4.gcp.confluent.cloud:9092\") \\\n",
    "  .option(\"kafka.security.protocol\", \"SASL_SSL\") \\\n",
    "  .option(\"kafka.sasl.mechanism\", \"PLAIN\") \\\n",
    "  .option(\"kafka.sasl.username\", sasl_username) \\\n",
    "  .option(\"kafka.sasl.password\", sasl_password) \\\n",
    "  .load()\n",
    "\n",
    "parsed_df = df.selectExpr(\"CAST(key AS STRING)\", \"CAST(value AS STRING)\")\n",
    "\n",
    "# Total bytes\n",
    "total_bytes = parsed_df \\\n",
    "    .withWatermark(\"timestamp\", \"5 minutes\") \\\n",
    "    .groupBy(window(\"timestamp\", \"5 minutes\", \"1 minute\")) \\\n",
    "    .agg(sum(\"bytes_sent\").alias(\"total_bytes\"))\n",
    "\n",
    "# Average Bytes\n",
    "average_bytes = parsed_df \\\n",
    "    .withWatermark(\"timestamp\", \"5 minutes\") \\\n",
    "    .groupBy(window(\"timestamp\", \"5 minutes\", \"1 minute\")) \\\n",
    "    .agg(avg(\"bytes_sent\").alias(\"average_bytes\"))# Kafka producer configuration"
   ]
  },
  {
   "cell_type": "code",
   "execution_count": null,
   "id": "82b98fe7",
   "metadata": {},
   "outputs": [],
   "source": [
    "# Produce processed data\n",
    "\n",
    "processed_topic = \"proccessed-traffic\"\n",
    "\n",
    "producer = Producer({\n",
    "    'bootstrap.servers': f\"{bootstrap_servers}:9092\",\n",
    "    'security.protocol':'SASL_SSL',\n",
    "    'sasl.mechanism':'PLAIN',\n",
    "    'sasl.username': sasl_username,\n",
    "    'sasl.password':sasl_password\n",
    "})\n",
    "processed = {\n",
    "    \"average_bytes\": average_bytes,\n",
    "    \"total_bytes\": total_bytes\n",
    "}\n",
    "p_string = json.dumps(processed)\n",
    "\n",
    "producer.produce(processed_topic,  key = \"key\", value = p_string.encode('utf-8'))"
   ]
  }
 ],
 "metadata": {
  "kernelspec": {
   "display_name": "Python 3 (ipykernel)",
   "language": "python",
   "name": "python3"
  },
  "language_info": {
   "codemirror_mode": {
    "name": "ipython",
    "version": 3
   },
   "file_extension": ".py",
   "mimetype": "text/x-python",
   "name": "python",
   "nbconvert_exporter": "python",
   "pygments_lexer": "ipython3",
   "version": "3.10.9"
  }
 },
 "nbformat": 4,
 "nbformat_minor": 5
}
